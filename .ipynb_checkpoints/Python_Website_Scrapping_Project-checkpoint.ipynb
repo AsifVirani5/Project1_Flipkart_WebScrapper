{
 "cells": [
  {
   "cell_type": "code",
   "execution_count": 2,
   "id": "8fabebbe",
   "metadata": {},
   "outputs": [],
   "source": [
    "from flask import Flask,request, render_template, jsonify\n",
    "from bs4 import BeautifulSoup as bs\n",
    "from urllib.request import urlopen as urReq"
   ]
  },
  {
   "cell_type": "code",
   "execution_count": 10,
   "id": "2528720c",
   "metadata": {},
   "outputs": [
    {
     "name": "stdout",
     "output_type": "stream",
     "text": [
      "Requirement already satisfied: beautifulsoup4 in c:\\users\\460379\\anaconda3\\lib\\site-packages (4.11.1)\n",
      "Requirement already satisfied: soupsieve>1.2 in c:\\users\\460379\\anaconda3\\lib\\site-packages (from beautifulsoup4) (2.3.1)\n"
     ]
    }
   ],
   "source": [
    "!pip install beautifulsoup4"
   ]
  },
  {
   "cell_type": "code",
   "execution_count": 3,
   "id": "2160b6d3",
   "metadata": {},
   "outputs": [],
   "source": [
    "\n",
    "\n",
    "flipcart_url = \"https://www.flipkart.com/search?q=\"+\"iphone11\"\n",
    "\n",
    "response_website = urReq(flipcart_url)\n",
    "\n",
    "\n",
    "\n"
   ]
  },
  {
   "cell_type": "code",
   "execution_count": 1,
   "id": "c3657db4",
   "metadata": {},
   "outputs": [
    {
     "ename": "NameError",
     "evalue": "name 'response_website' is not defined",
     "output_type": "error",
     "traceback": [
      "\u001b[1;31m---------------------------------------------------------------------------\u001b[0m",
      "\u001b[1;31mNameError\u001b[0m                                 Traceback (most recent call last)",
      "Input \u001b[1;32mIn [1]\u001b[0m, in \u001b[0;36m<cell line: 1>\u001b[1;34m()\u001b[0m\n\u001b[1;32m----> 1\u001b[0m data_flipcart \u001b[38;5;241m=\u001b[39m \u001b[43mresponse_website\u001b[49m\u001b[38;5;241m.\u001b[39mread()\n",
      "\u001b[1;31mNameError\u001b[0m: name 'response_website' is not defined"
     ]
    }
   ],
   "source": [
    "data_flipcart = response_website.read()\n",
    "\n",
    "\n"
   ]
  },
  {
   "cell_type": "code",
   "execution_count": null,
   "id": "33de7db2",
   "metadata": {},
   "outputs": [],
   "source": [
    "bigbox = beautifyed_html.find_all(\"div\" , {\"class\":\"_1AtVbE col-12-12\" })\n",
    "\n",
    "product6 = \"https://www.flipkart.com\" + bigbox[6].div.div.div.a['href']\n",
    "\n",
    "import requests\n",
    "\n",
    "product66 = requests.get(product6)\n",
    "\n",
    "product66.encoding= 'utf-8'\n",
    "\n",
    "bs(product66.text,\"html.parser\")\n",
    "\n",
    "beautifyed_html = bs(data_flipcart, \"html.parser\")\n",
    "\n",
    "\n",
    "beautifyed_html.find_all(\"div\", {\"class\" : \"_1AtVbE col-12-12\"})\n",
    "\n",
    "\n",
    "bigbox = len(beautifyed_html.find_all(\"div\", {\"class\" : \"_1AtVbE col-12-12\"}))\n",
    "\n",
    "bigbox[0].div.div\n",
    "\n",
    "bigbox[6].div.div.div.a['href']\n",
    "\n",
    "product6 = \"https://www.flipkart.com\" + bigbox[6].div.div.div.a['href']\n",
    "\n",
    "import requests\n",
    "\n",
    "product66 = requests.get(product6)\n",
    "\n",
    "product66.encoding= 'utf-8'\n",
    "\n",
    "\n",
    "product6_page = bs(product66.text, \"html.parser\")\n",
    "\n",
    "all_review = product6_page.find_all(\"div\", {\"class\": \"_1AtVbE col-12-12\"})\n",
    "\n",
    "all_review[5]\n",
    "\n",
    "rating = all_review[5].div.div.div.div.text\n",
    "\n",
    "name  = all_review[5].div.div.find_all('p', {\"class\": \"_2sc7ZR _2V5EHH\"})[0].text\n",
    "\n",
    "comment_header = all_review[5].div.div.div.p.text\n",
    "\n",
    "all_review[5].div.div.find_all('div', {'class' : \"\"})[0].div.text\n",
    "\n",
    "date = all_review[5].div.find_all('p', {'class' : \"_2sc7ZR\"})[1].text\n",
    "\n",
    "Price = product6_page.find_all('div', {'class': \"_30jeq3 _16Jk6d\"})[0].text\n",
    "\n",
    "all_review\n",
    "\n",
    "\n",
    "    \n",
    "\n",
    "\n",
    "\n"
   ]
  }
 ],
 "metadata": {
  "kernelspec": {
   "display_name": "Python 3 (ipykernel)",
   "language": "python",
   "name": "python3"
  },
  "language_info": {
   "codemirror_mode": {
    "name": "ipython",
    "version": 3
   },
   "file_extension": ".py",
   "mimetype": "text/x-python",
   "name": "python",
   "nbconvert_exporter": "python",
   "pygments_lexer": "ipython3",
   "version": "3.9.12"
  }
 },
 "nbformat": 4,
 "nbformat_minor": 5
}
